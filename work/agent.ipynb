{
 "cells": [
  {
   "cell_type": "code",
   "execution_count": 195,
   "metadata": {},
   "outputs": [],
   "source": [
    "from crewai import Agent, LLM, Task, Crew, Process\n",
    "\n",
    "llm =  LLM(model=\"gpt-4o\")\n",
    "\n",
    "from crewai.tools import tool\n",
    "\n",
    "from crewai_tools import SerperDevTool\n",
    "import os\n",
    "\n",
    "\n",
    "\n",
    "@tool(\"search_internet\")\n",
    "def search_internet(question:str):\n",
    "    \"\"\"Search the internet based on question\"\"\"\n",
    "    tool = SerperDevTool(\n",
    "        search_url=\"https://google.serper.dev/scholar\",\n",
    "        n_results=2,    \n",
    "    )\n",
    "    res  = tool.run(search_query=question)\n",
    "    return res\n",
    "\n",
    "\n",
    "@tool(\"bio_of_sachin\")\n",
    "def bio_of_sachin(question: str) -> str:\n",
    "    \"\"\"Tool description for clarity.\"\"\"\n",
    "    # Tool logic here\n",
    "    return \"Sachin is an AI enginner with 7 years of experience in IT industry\""
   ]
  },
  {
   "cell_type": "code",
   "execution_count": 196,
   "metadata": {},
   "outputs": [],
   "source": [
    "agent_one = Agent(role=\"You are google search engine\", \n",
    "                  goal=\"Help the client to get details of a person\", \n",
    "                  backstory=\"\"\"always try to use the bio_of_sachin tool first. \n",
    "            If you are not able to retrieve the information from the bio_of_sachin tool\n",
    "            then use internet.\"\"\",\n",
    "                  llm=llm,\n",
    "                  tools=[bio_of_sachin, search_internet],\n",
    "                  verbose=True\n",
    "                 )"
   ]
  },
  {
   "cell_type": "code",
   "execution_count": 197,
   "metadata": {},
   "outputs": [],
   "source": [
    "task_one = Task(description=\"Tell me everything about {query}\",\n",
    "                expected_output=\"the output should be in clear\",\n",
    "                agent=agent_one)"
   ]
  },
  {
   "cell_type": "code",
   "execution_count": 198,
   "metadata": {},
   "outputs": [
    {
     "name": "stderr",
     "output_type": "stream",
     "text": [
      "WARNING:opentelemetry.trace:Overriding of current TracerProvider is not allowed\n"
     ]
    }
   ],
   "source": [
    "crew = Crew(agents=[agent_one], tasks=[task_one], process=Process.sequential)"
   ]
  },
  {
   "cell_type": "code",
   "execution_count": 199,
   "metadata": {},
   "outputs": [
    {
     "name": "stdout",
     "output_type": "stream",
     "text": [
      "\u001b[1m\u001b[95m# Agent:\u001b[00m \u001b[1m\u001b[92mYou are google search engine\u001b[00m\n",
      "\u001b[95m## Task:\u001b[00m \u001b[92mTell me everything about Who is sachin?\u001b[00m\n",
      "\n",
      "\n",
      "\u001b[1m\u001b[95m# Agent:\u001b[00m \u001b[1m\u001b[92mYou are google search engine\u001b[00m\n",
      "\u001b[95m## Thought:\u001b[00m \u001b[92mThought: I should first utilize the bio_of_sachin tool to gather comprehensive information about Sachin.\u001b[00m\n",
      "\u001b[95m## Using tool:\u001b[00m \u001b[92mbio_of_sachin\u001b[00m\n",
      "\u001b[95m## Tool Input:\u001b[00m \u001b[92m\n",
      "\"{\\\"question\\\": \\\"Who is Sachin?\\\"}\"\u001b[00m\n",
      "\u001b[95m## Tool Output:\u001b[00m \u001b[92m\n",
      "Sachin is an AI enginner with 7 years of experience in IT industry\u001b[00m\n",
      "\n",
      "\n",
      "\u001b[1m\u001b[95m# Agent:\u001b[00m \u001b[1m\u001b[92mYou are google search engine\u001b[00m\n",
      "\u001b[95m## Final Answer:\u001b[00m \u001b[92m\n",
      "Sachin is an AI engineer with 7 years of experience in the IT industry.\u001b[00m\n",
      "\n",
      "\n"
     ]
    },
    {
     "data": {
      "text/plain": [
       "CrewOutput(raw='Sachin is an AI engineer with 7 years of experience in the IT industry.', pydantic=None, json_dict=None, tasks_output=[TaskOutput(description='Tell me everything about Who is sachin?', name=None, expected_output='the output should be in clear', summary='Tell me everything about Who is sachin?...', raw='Sachin is an AI engineer with 7 years of experience in the IT industry.', pydantic=None, json_dict=None, agent='You are google search engine', output_format=<OutputFormat.RAW: 'raw'>)], token_usage=UsageMetrics(total_tokens=841, prompt_tokens=754, cached_prompt_tokens=0, completion_tokens=87, successful_requests=2))"
      ]
     },
     "execution_count": 199,
     "metadata": {},
     "output_type": "execute_result"
    }
   ],
   "source": [
    "crew.kickoff(inputs={\"query\":\"Who is sachin?\"})\n"
   ]
  },
  {
   "cell_type": "code",
   "execution_count": 200,
   "metadata": {},
   "outputs": [
    {
     "data": {
      "text/plain": [
       "'gpt-4o'"
      ]
     },
     "execution_count": 200,
     "metadata": {},
     "output_type": "execute_result"
    }
   ],
   "source": [
    "agent_one.llm.model"
   ]
  },
  {
   "cell_type": "code",
   "execution_count": 201,
   "metadata": {},
   "outputs": [
    {
     "name": "stdout",
     "output_type": "stream",
     "text": [
      "Using Tool: Search the internet\n",
      "{'searchParameters': {'q': 'Sachin', 'type': 'search', 'num': 2, 'engine': 'google'}, 'knowledgeGraph': {'title': 'Sachin Tendulkar', 'type': 'Former Member of Rajya Sabha', 'website': '', 'imageUrl': 'https://encrypted-tbn0.gstatic.com/images?q=tbn:ANd9GcQRqxmHWHiIO4luF4raUnMH8FOddp0xRNlP1MG36hc8qBbNqB-fEAgmMA&s=0', 'description': 'Sachin Ramesh Tendulkar is an Indian former international cricketer who captained the Indian national team. He is widely regarded as one of the greatest batsmen in the history of cricket.', 'descriptionSource': 'Wikipedia', 'descriptionLink': 'https://en.wikipedia.org/wiki/Sachin_Tendulkar', 'attributes': {'Born': 'April 24, 1973 (age 51\\xa0years), Mumbai, India', 'Spouse': 'Anjali Tendulkar (m. 1995)', 'Dates joined': '2008 (Mumbai Indians), 1992 (Yorkshire County Cricket Club), November 15, 1989 (India national cricket team), and more', 'Awards': 'Bharat Ratna, Padma Shri, Padma Vibhushan, and more', 'Children': 'Sara Tendulkar and Arjun Tendulkar', 'Height': '5′ 5″', 'Number of centuries': '100'}}, 'organic': [{'title': 'Sachin Tendulkar - Wikipedia', 'link': 'https://en.wikipedia.org/wiki/Sachin_Tendulkar', 'snippet': 'Sachin Ramesh Tendulkar is an Indian former international cricketer who captained the Indian national team. He is widely regarded as one of the greatest ...', 'position': 1, 'sitelinks': [{'title': 'List of international cricket...', 'link': 'https://en.wikipedia.org/wiki/List_of_international_cricket_centuries_by_Sachin_Tendulkar'}, {'title': 'List of career achievements by...', 'link': 'https://en.wikipedia.org/wiki/List_of_career_achievements_by_Sachin_Tendulkar'}, {'title': 'Arjun Tendulkar', 'link': 'https://en.wikipedia.org/wiki/Arjun_Tendulkar'}]}], 'relatedSearches': [{'query': 'Rohit Sharma'}, {'query': 'Sachin Tendulkar age'}], 'credits': 1}\n"
     ]
    }
   ],
   "source": [
    "from crewai_tools import SerperDevTool\n",
    "import os\n",
    "\n",
    "tool = SerperDevTool(\n",
    "    search_url=\"https://google.serper.dev/scholar\",\n",
    "    n_results=2,    \n",
    ")\n",
    "\n",
    "\n",
    "print(tool.run(search_query=\"Sachin\"))"
   ]
  },
  {
   "cell_type": "code",
   "execution_count": null,
   "metadata": {},
   "outputs": [],
   "source": []
  }
 ],
 "metadata": {
  "kernelspec": {
   "display_name": "testenv",
   "language": "python",
   "name": "python3"
  },
  "language_info": {
   "codemirror_mode": {
    "name": "ipython",
    "version": 3
   },
   "file_extension": ".py",
   "mimetype": "text/x-python",
   "name": "python",
   "nbconvert_exporter": "python",
   "pygments_lexer": "ipython3",
   "version": "3.11.5"
  },
  "orig_nbformat": 4
 },
 "nbformat": 4,
 "nbformat_minor": 2
}
