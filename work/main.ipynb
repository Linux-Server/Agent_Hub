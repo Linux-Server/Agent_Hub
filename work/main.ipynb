{
 "cells": [
  {
   "cell_type": "code",
   "execution_count": 18,
   "metadata": {},
   "outputs": [
    {
     "name": "stdout",
     "output_type": "stream",
     "text": [
      "How can I assist you today?\n"
     ]
    }
   ],
   "source": [
    "from langchain.llms import Ollama\n",
    "\n",
    "ollama_model = Ollama(model=\"llama3.2\", base_url=\"http://65.2.146.205:11434\")  # Replace 'llama2' with your desired model name\n",
    "# Call the model with a prompt\n",
    "response = ollama_model(\"Hi\")\n",
    "print(response)"
   ]
  },
  {
   "cell_type": "code",
   "execution_count": 27,
   "metadata": {},
   "outputs": [
    {
     "data": {
      "text/plain": [
       "'How can I assist you today?'"
      ]
     },
     "execution_count": 27,
     "metadata": {},
     "output_type": "execute_result"
    }
   ],
   "source": [
    "from langchain_ollama.llms import OllamaLLM\n",
    "\n",
    "\n",
    "model = OllamaLLM(model=\"llama3.2\", base_url=\"http://65.2.146.205:11434\", streaming=True)\n",
    "\n",
    "\n",
    "model.invoke(\"Hi\")"
   ]
  },
  {
   "cell_type": "code",
   "execution_count": 37,
   "metadata": {},
   "outputs": [
    {
     "name": "stdout",
     "output_type": "stream",
     "text": [
      "Python is a popular high-level, interpreted programming language that is widely used for various purposes such as web development, scientific computing, data analysis, artificial intelligence, and more.\n",
      "\n",
      "Here are some key features of Python:\n",
      "\n",
      "1. **Easy to learn**: Python has a simple syntax and is relatively easy to read and write, making it a great language for beginners.\n",
      "2. **High-level language**: Python is a high-level language, meaning it abstracts away many low-level details, allowing developers to focus on the logic of their program without worrying about memory management or other details.\n",
      "3. **Interpreted language**: Python code is interpreted at runtime, making it easy to write and test code quickly.\n",
      "4. **Dynamic typing**: Python is dynamically typed, meaning that you don't need to declare variable types before using them.\n",
      "5. **Large standard library**: Python has a vast collection of libraries and frameworks that make it suitable for various tasks.\n",
      "\n",
      "Some popular applications of Python include:\n",
      "\n",
      "1. **Data analysis and science**: Python is widely used in data analysis and scientific computing with popular libraries like NumPy, pandas, and scikit-learn.\n",
      "2. **Web development**: Python is used in web development with frameworks like Django and Flask to build scalable and efficient web applications.\n",
      "3. **Artificial intelligence and machine learning**: Python is a popular choice for AI and ML tasks due to its extensive libraries like TensorFlow, Keras, and PyTorch.\n",
      "4. **Automation and scripting**: Python is often used for automating tasks and writing scripts due to its easy-to-learn syntax and vast standard library.\n",
      "\n",
      "Some of the most common uses of Python include:\n",
      "\n",
      "1. **Data analysis and visualization**\n",
      "2. **Web development and deployment**\n",
      "3. **Machine learning and AI**\n",
      "4. **Automation and scripting**\n",
      "5. **Scientific computing and research**\n",
      "\n",
      "What would you like to know about Python? Do you have any specific questions or topics you'd like me to cover?"
     ]
    }
   ],
   "source": [
    "from langchain_ollama.llms import OllamaLLM\n",
    "\n",
    "# Initialize the OllamaLLM model with streaming enabled\n",
    "model = OllamaLLM(model=\"llama3.2\", base_url=\"http://65.2.146.205:11434\", streaming=True)\n",
    "\n",
    "# Stream the response\n",
    "response_stream = model.stream(\"Python\")\n",
    "\n",
    "for i in response_stream:\n",
    "    print(i, end=\"\", flush=True)"
   ]
  },
  {
   "cell_type": "code",
   "execution_count": null,
   "metadata": {},
   "outputs": [],
   "source": []
  }
 ],
 "metadata": {
  "kernelspec": {
   "display_name": "testenv",
   "language": "python",
   "name": "python3"
  },
  "language_info": {
   "codemirror_mode": {
    "name": "ipython",
    "version": 3
   },
   "file_extension": ".py",
   "mimetype": "text/x-python",
   "name": "python",
   "nbconvert_exporter": "python",
   "pygments_lexer": "ipython3",
   "version": "3.11.5"
  },
  "orig_nbformat": 4
 },
 "nbformat": 4,
 "nbformat_minor": 2
}
