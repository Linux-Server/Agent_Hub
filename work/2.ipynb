{
 "cells": [
  {
   "cell_type": "code",
   "execution_count": 126,
   "metadata": {},
   "outputs": [],
   "source": [
    "from crewai import Agent, Task,Crew\n",
    "from crewai.tools import tool\n",
    "import requests\n",
    "\n",
    "@tool(\"restaurant_finder_tool\")\n",
    "def restaurant_finder_tool(location: str, customer:str):\n",
    "    \"\"\"This fuction will fetch all the available restaurant list based on location provided by customer.\"\"\"\n",
    "    restaurant_list = requests.get(f\"https://v2api-dev.alacater.com/v2/customers/all-restaurants/{location}\") \n",
    "    return restaurant_list.json()\n",
    "\n",
    "\n",
    "restaurant_finder_agent = Agent(role=\"Experienced Restaurant Finder\",\n",
    "                          goal=\"Fetch all the available restaurant list based on location provided by customer\",\n",
    "                          backstory=\"You are an experienced restaurant finder and you have helped many customers to find the best restaurant based on the location choosen by the customer\"\n",
    "                                     \"Right now, you are working for a famous dubai based corporate catering company called : Alacater\",\n",
    "                                     verbose=True)"
   ]
  },
  {
   "cell_type": "code",
   "execution_count": 127,
   "metadata": {},
   "outputs": [],
   "source": [
    "restaurant_finder_task = Task(description=\"You have to fetch all the available restaurant based on the location: {location} provided by the customer : {customer}. Say u don't find anything, if u have no tool call found or the tool call returns an empty list\",\n",
    "                              expected_output=\"show the outputs list of all the available restaurants based on the location provided by the customer\",\n",
    "                              agent=restaurant_finder_agent,\n",
    "                              tools= [restaurant_finder_tool],\n",
    "                              verbose=True)"
   ]
  },
  {
   "cell_type": "code",
   "execution_count": 128,
   "metadata": {},
   "outputs": [
    {
     "name": "stderr",
     "output_type": "stream",
     "text": [
      "Overriding of current TracerProvider is not allowed\n"
     ]
    }
   ],
   "source": [
    "alacater_crew = Crew(agents=[restaurant_finder_agent],\n",
    "                     tasks=[restaurant_finder_task],\n",
    "                     verbose=True)"
   ]
  },
  {
   "cell_type": "code",
   "execution_count": 130,
   "metadata": {},
   "outputs": [
    {
     "name": "stdout",
     "output_type": "stream",
     "text": [
      "\u001b[1m\u001b[95m# Agent:\u001b[00m \u001b[1m\u001b[92mExperienced Restaurant Finder\u001b[00m\n",
      "\u001b[95m## Task:\u001b[00m \u001b[92mYou have to fetch all the available restaurant based on the location: Al Barsha provided by the customer : John Doe. Say u don't find anything, if u have no tool call found or the tool call returns an empty list\u001b[00m\n",
      "\n",
      "\n",
      "\u001b[1m\u001b[95m# Agent:\u001b[00m \u001b[1m\u001b[92mExperienced Restaurant Finder\u001b[00m\n",
      "\u001b[95m## Thought:\u001b[00m \u001b[92mI need to fetch all the available restaurant list based on the location Al Barsha provided by the customer John Doe.\u001b[00m\n",
      "\u001b[95m## Using tool:\u001b[00m \u001b[92mrestaurant_finder_tool\u001b[00m\n",
      "\u001b[95m## Tool Input:\u001b[00m \u001b[92m\n",
      "\"{\\\"location\\\": \\\"Al Barsha\\\", \\\"customer\\\": \\\"John Doe\\\"}\"\u001b[00m\n",
      "\u001b[95m## Tool Output:\u001b[00m \u001b[92m\n",
      "[{'_id': '6789ec367b19e95838a5e39b', 'name': 'Cosmic Restaurant', 'location': 'Al Barsha First', 'address': 'Courtyard Al Barsha, Dubai', 'description': 'Cosmic Kitchen\" is an exciting culinary destination that takes you on a global gastronomic journey like no other. We pride ourselves on offering a diverse and delightful array of flavors from around the world, making us a haven for enthusiasts of international cuisine. At \"Cosmic Kitchen\" our menu is a symphony of tastes, , each carefully curated to transport your palate on a worldwide adventure. Whether you\\'re craving the spicy warmth of Indian curry, the comforting flavors of Italian pasta, the bold spices of Thai cuisine, the delicate elegance of Asian delicacy, we have something to satisfy every craving. An inviting ambiance and attentive service, \"Cosmic Kitchen\" is more than just a restaurant', 'latitude': '25.1071127', 'longitude': '55.1984575', 'image': 'https://alacater-dev.s3.me-central-1.amazonaws.com/coslogo.webp', 'bannerImage': 'https://alacater-dev.s3.me-central-1.amazonaws.com/cosmic_kitchen.webp', 'cuisine_types': ['67244b714c0195aad6f43ef0', '67244b714c0195aad6f43ef3', '67244b714c0195aad6f43ef5'], 'minimum_price': 25, 'website': 'www.cosmic-restaurant.com', 'status': False, 'approved': False, 'vipStatus': False, 'averageStarCount': 0, 'isOpened': False, 'offer': [], 'ratingCount': 0}, {'_id': '6773b0b36d70d085f79309e8', 'name': 'Gonzalez y Gonzalez', 'location': 'Al Barsha First', 'address': 'Al Barsha First , UAE', 'description': 'Gonzalez y Gonzalez is a Mexican restaurant with multiple locations.', 'latitude': '25.1071127', 'longitude': '55.1984575', 'image': 'https://alacater-dev.s3.me-central-1.amazonaws.com/cafe1.webp', 'bannerImage': 'https://alacater-dev.s3.me-central-1.amazonaws.com/Taco-Titanic.webp', 'cuisine_types': ['67244b714c0195aad6f43ef0', '67244b714c0195aad6f43ef1', '67244b714c0195aad6f43ef2', '67244b714c0195aad6f43ef3', '67244b714c0195aad6f43ef5', '67244b714c0195aad6f43ef6', '67244b714c0195aad6f43efa', '67244b714c0195aad6f43efb', '67244b714c0195aad6f43efc', '67244b714c0195aad6f43efe', '67244b714c0195aad6f43eff', '67244b714c0195aad6f43f00'], 'minimum_price': 5, 'website': 'www.gonzalez-y-gonzalez-3.com', 'status': False, 'approved': False, 'vipStatus': False, 'averageStarCount': 4.5, 'rank': 17, 'isOpened': False, 'offer': [], 'ratingCount': 0}, {'_id': '676f720a23b6b42f80cf6ea7', 'name': 'Cafficana New', 'location': 'Al Barsha First', 'address': 'Al Barsha First , UAE', 'description': \"Cafficana aspires to celebrate coffee in its every form, packed with individuality and full of character. “The smell of fresh-made coffee is one of the world's greatest inventions. Cafficana serves a variety of coffees, including options for different moods.Cafficana serves organic food, including vegan options, prepared foods, and thick shakes.Cafficana serves pastries. Upon stepping inside Cafficana, you are greeted by an interior that seamlessly blends contemporary design with rustic charm. Warm lighting, soft music, and carefully curated décor create an atmosphere of relaxation and comfort. Whether you choose a seat by the large floor-to-ceiling windows or settle into one of the intimate corner booths, every spot offers a unique perspective of this beautifully designed space.\", 'latitude': '25.1071127', 'longitude': '55.1984575', 'image': 'https://alacater-dev.s3.me-central-1.amazonaws.com/Cafe itallo banner.webp', 'bannerImage': 'https://alacater-dev.s3.me-central-1.amazonaws.com/cafficana.webp', 'cuisine_types': ['67244b714c0195aad6f43ef0', '67244b714c0195aad6f43ef1', '67244b714c0195aad6f43ef2', '67244b714c0195aad6f43ef3'], 'minimum_price': 5, 'website': 'https://cafficana.com/', 'status': False, 'approved': False, 'vipStatus': False, 'averageStarCount': 0, 'rank': 4, 'isOpened': False, 'offer': [], 'ratingCount': 0}, {'_id': '676a9fa94583e0786bcbc508', 'name': 'Chalet Grill', 'location': 'Al Barsha First', 'address': 'Al Barsha First, UAE', 'description': 'Welcome to Chalet Grill, where a culinary journey awaits in the heart of Dubai. Nestled in a cozy and vibrant setting, we specialize in serving exquisite grilled delicacies prepared with the finest ingredients and authentic flavors.  Indulge in our signature dishes, ranging from succulent kebabs and premium steaks to fresh seafood grilled to perfection. Whether you’re seeking a casual dining experience or celebrating a special occasion, our warm ambiance and exceptional service promise a memorable time.  At Chalet Grill, every dish tells a story of taste, tradition, and passion for excellence. Join us and savor the art of grilling like never before!', 'latitude': '25.107112700000613', 'longitude': '55.196740886231055', 'image': 'https://alacater-dev.s3.me-central-1.amazonaws.com/32321800_169583490399344_966400158797398016_n.webp', 'bannerImage': 'https://alacater-dev.s3.me-central-1.amazonaws.com/sha1.webp', 'cuisine_types': ['67244b714c0195aad6f43ef3', '67244b714c0195aad6f43ef5', '67244b714c0195aad6f43efa', '67244b714c0195aad6f43efb', '67244b714c0195aad6f43efd'], 'minimum_price': 3, 'website': 'https://www.chaletgrill.com', 'status': False, 'approved': False, 'vipStatus': False, 'averageStarCount': 3.0, 'rank': 17, 'isOpened': True, 'offer': [], 'ratingCount': 0}, {'_id': '676a9f2e4583e0786bcbc506', 'name': 'Pizza king', 'location': 'Al Barsha First', 'address': 'Al Barsha First', 'description': 'Authentic Pizza', 'latitude': '25.1071127', 'longitude': '55.1984575', 'image': 'https://alacater-dev.s3.me-central-1.amazonaws.com/pizza_image.webp', 'bannerImage': 'https://alacater-dev.s3.me-central-1.amazonaws.com/pizza_image.webp', 'cuisine_types': ['67244b714c0195aad6f43ef5', '67244b714c0195aad6f43ef4', '67244b714c0195aad6f43efb', '67244b714c0195aad6f43efa', '67244b714c0195aad6f43ef8'], 'minimum_price': 100, 'website': 'www.pizzakingtest.com', 'status': False, 'approved': False, 'vipStatus': False, 'averageStarCount': 5.0, 'rank': 6, 'isOpened': True, 'offer': [], 'ratingCount': 0}]\u001b[00m\n",
      "\n",
      "\n",
      "\u001b[1m\u001b[95m# Agent:\u001b[00m \u001b[1m\u001b[92mExperienced Restaurant Finder\u001b[00m\n",
      "\u001b[95m## Final Answer:\u001b[00m \u001b[92m\n",
      "Here are the available restaurants in Al Barsha:\n",
      "\n",
      "1. **Cosmic Restaurant**\n",
      "   - **Location:** Al Barsha First\n",
      "   - **Address:** Courtyard Al Barsha, Dubai\n",
      "   - **Description:** Cosmic Kitchen is an exciting culinary destination that takes you on a global gastronomic journey like no other. We pride ourselves on offering a diverse and delightful array of flavors from around the world, making us a haven for enthusiasts of international cuisine. At Cosmic Kitchen, our menu is a symphony of tastes, each carefully curated to transport your palate on a worldwide adventure.\n",
      "   - **Minimum Price:** 25 AED\n",
      "   - **Website:** [cosmic-restaurant.com](http://www.cosmic-restaurant.com)\n",
      "   - **Image:** ![Cosmic Restaurant](https://alacater-dev.s3.me-central-1.amazonaws.com/coslogo.webp)\n",
      "   - **Banner Image:** ![Cosmic Banner](https://alacater-dev.s3.me-central-1.amazonaws.com/cosmic_kitchen.webp)\n",
      "\n",
      "2. **Gonzalez y Gonzalez**\n",
      "   - **Location:** Al Barsha First\n",
      "   - **Address:** Al Barsha First, UAE\n",
      "   - **Description:** Gonzalez y Gonzalez is a Mexican restaurant with multiple locations.\n",
      "   - **Minimum Price:** 5 AED\n",
      "   - **Website:** [gonzalez-y-gonzalez-3.com](http://www.gonzalez-y-gonzalez-3.com)\n",
      "   - **Image:** ![Gonzalez y Gonzalez](https://alacater-dev.s3.me-central-1.amazonaws.com/cafe1.webp)\n",
      "   - **Banner Image:** ![Gonzalez Banner](https://alacater-dev.s3.me-central-1.amazonaws.com/Taco-Titanic.webp)\n",
      "\n",
      "3. **Cafficana New**\n",
      "   - **Location:** Al Barsha First\n",
      "   - **Address:** Al Barsha First, UAE\n",
      "   - **Description:** Cafficana aspires to celebrate coffee in its every form, packed with individuality and full of character. Various coffee options and organic food served; the atmosphere is one of relaxation and comfort.\n",
      "   - **Minimum Price:** 5 AED\n",
      "   - **Website:** [cafficana.com](https://cafficana.com/)\n",
      "   - **Image:** ![Cafficana New](https://alacater-dev.s3.me-central-1.amazonaws.com/Cafe%20italo%20banner.webp)\n",
      "   - **Banner Image:** ![Cafficana Banner](https://alacater-dev.s3.me-central-1.amazonaws.com/cafficana.webp)\n",
      "\n",
      "4. **Chalet Grill**\n",
      "   - **Location:** Al Barsha First\n",
      "   - **Address:** Al Barsha First, UAE\n",
      "   - **Description:** Welcome to Chalet Grill, where a culinary journey awaits in the heart of Dubai. Specializing in exquisite grilled delicacies prepared with the finest ingredients, our warm ambiance promises a memorable time.\n",
      "   - **Minimum Price:** 3 AED\n",
      "   - **Website:** [chaletgrill.com](https://www.chaletgrill.com)\n",
      "   - **Image:** ![Chalet Grill](https://alacater-dev.s3.me-central-1.amazonaws.com/32321800_169583490399344_966400158797398016_n.webp)\n",
      "   - **Banner Image:** ![Chalet Banner](https://alacater-dev.s3.me-central-1.amazonaws.com/sha1.webp)\n",
      "\n",
      "5. **Pizza King**\n",
      "   - **Location:** Al Barsha First\n",
      "   - **Address:** Al Barsha First\n",
      "   - **Description:** Authentic Pizza\n",
      "   - **Minimum Price:** 100 AED\n",
      "   - **Website:** [pizzakingtest.com](http://www.pizzakingtest.com)\n",
      "   - **Image:** ![Pizza King](https://alacater-dev.s3.me-central-1.amazonaws.com/pizza_image.webp)\n",
      "   - **Banner Image:** ![Pizza King Banner](https://alacater-dev.s3.me-central-1.amazonaws.com/pizza_image.webp)\n",
      "\n",
      "These restaurants offer a variety of cuisines and dining experiences in Al Barsha.\u001b[00m\n",
      "\n",
      "\n"
     ]
    },
    {
     "data": {
      "text/plain": [
       "CrewOutput(raw='Here are the available restaurants in Al Barsha:\\n\\n1. **Cosmic Restaurant**\\n   - **Location:** Al Barsha First\\n   - **Address:** Courtyard Al Barsha, Dubai\\n   - **Description:** Cosmic Kitchen is an exciting culinary destination that takes you on a global gastronomic journey like no other. We pride ourselves on offering a diverse and delightful array of flavors from around the world, making us a haven for enthusiasts of international cuisine. At Cosmic Kitchen, our menu is a symphony of tastes, each carefully curated to transport your palate on a worldwide adventure.\\n   - **Minimum Price:** 25 AED\\n   - **Website:** [cosmic-restaurant.com](http://www.cosmic-restaurant.com)\\n   - **Image:** ![Cosmic Restaurant](https://alacater-dev.s3.me-central-1.amazonaws.com/coslogo.webp)\\n   - **Banner Image:** ![Cosmic Banner](https://alacater-dev.s3.me-central-1.amazonaws.com/cosmic_kitchen.webp)\\n\\n2. **Gonzalez y Gonzalez**\\n   - **Location:** Al Barsha First\\n   - **Address:** Al Barsha First, UAE\\n   - **Description:** Gonzalez y Gonzalez is a Mexican restaurant with multiple locations.\\n   - **Minimum Price:** 5 AED\\n   - **Website:** [gonzalez-y-gonzalez-3.com](http://www.gonzalez-y-gonzalez-3.com)\\n   - **Image:** ![Gonzalez y Gonzalez](https://alacater-dev.s3.me-central-1.amazonaws.com/cafe1.webp)\\n   - **Banner Image:** ![Gonzalez Banner](https://alacater-dev.s3.me-central-1.amazonaws.com/Taco-Titanic.webp)\\n\\n3. **Cafficana New**\\n   - **Location:** Al Barsha First\\n   - **Address:** Al Barsha First, UAE\\n   - **Description:** Cafficana aspires to celebrate coffee in its every form, packed with individuality and full of character. Various coffee options and organic food served; the atmosphere is one of relaxation and comfort.\\n   - **Minimum Price:** 5 AED\\n   - **Website:** [cafficana.com](https://cafficana.com/)\\n   - **Image:** ![Cafficana New](https://alacater-dev.s3.me-central-1.amazonaws.com/Cafe%20italo%20banner.webp)\\n   - **Banner Image:** ![Cafficana Banner](https://alacater-dev.s3.me-central-1.amazonaws.com/cafficana.webp)\\n\\n4. **Chalet Grill**\\n   - **Location:** Al Barsha First\\n   - **Address:** Al Barsha First, UAE\\n   - **Description:** Welcome to Chalet Grill, where a culinary journey awaits in the heart of Dubai. Specializing in exquisite grilled delicacies prepared with the finest ingredients, our warm ambiance promises a memorable time.\\n   - **Minimum Price:** 3 AED\\n   - **Website:** [chaletgrill.com](https://www.chaletgrill.com)\\n   - **Image:** ![Chalet Grill](https://alacater-dev.s3.me-central-1.amazonaws.com/32321800_169583490399344_966400158797398016_n.webp)\\n   - **Banner Image:** ![Chalet Banner](https://alacater-dev.s3.me-central-1.amazonaws.com/sha1.webp)\\n\\n5. **Pizza King**\\n   - **Location:** Al Barsha First\\n   - **Address:** Al Barsha First\\n   - **Description:** Authentic Pizza\\n   - **Minimum Price:** 100 AED\\n   - **Website:** [pizzakingtest.com](http://www.pizzakingtest.com)\\n   - **Image:** ![Pizza King](https://alacater-dev.s3.me-central-1.amazonaws.com/pizza_image.webp)\\n   - **Banner Image:** ![Pizza King Banner](https://alacater-dev.s3.me-central-1.amazonaws.com/pizza_image.webp)\\n\\nThese restaurants offer a variety of cuisines and dining experiences in Al Barsha.', pydantic=None, json_dict=None, tasks_output=[TaskOutput(description=\"You have to fetch all the available restaurant based on the location: Al Barsha provided by the customer : John Doe. Say u don't find anything, if u have no tool call found or the tool call returns an empty list\", name=None, expected_output='show the outputs list of all the available restaurants based on the location provided by the customer', summary='You have to fetch all the available restaurant based on...', raw='Here are the available restaurants in Al Barsha:\\n\\n1. **Cosmic Restaurant**\\n   - **Location:** Al Barsha First\\n   - **Address:** Courtyard Al Barsha, Dubai\\n   - **Description:** Cosmic Kitchen is an exciting culinary destination that takes you on a global gastronomic journey like no other. We pride ourselves on offering a diverse and delightful array of flavors from around the world, making us a haven for enthusiasts of international cuisine. At Cosmic Kitchen, our menu is a symphony of tastes, each carefully curated to transport your palate on a worldwide adventure.\\n   - **Minimum Price:** 25 AED\\n   - **Website:** [cosmic-restaurant.com](http://www.cosmic-restaurant.com)\\n   - **Image:** ![Cosmic Restaurant](https://alacater-dev.s3.me-central-1.amazonaws.com/coslogo.webp)\\n   - **Banner Image:** ![Cosmic Banner](https://alacater-dev.s3.me-central-1.amazonaws.com/cosmic_kitchen.webp)\\n\\n2. **Gonzalez y Gonzalez**\\n   - **Location:** Al Barsha First\\n   - **Address:** Al Barsha First, UAE\\n   - **Description:** Gonzalez y Gonzalez is a Mexican restaurant with multiple locations.\\n   - **Minimum Price:** 5 AED\\n   - **Website:** [gonzalez-y-gonzalez-3.com](http://www.gonzalez-y-gonzalez-3.com)\\n   - **Image:** ![Gonzalez y Gonzalez](https://alacater-dev.s3.me-central-1.amazonaws.com/cafe1.webp)\\n   - **Banner Image:** ![Gonzalez Banner](https://alacater-dev.s3.me-central-1.amazonaws.com/Taco-Titanic.webp)\\n\\n3. **Cafficana New**\\n   - **Location:** Al Barsha First\\n   - **Address:** Al Barsha First, UAE\\n   - **Description:** Cafficana aspires to celebrate coffee in its every form, packed with individuality and full of character. Various coffee options and organic food served; the atmosphere is one of relaxation and comfort.\\n   - **Minimum Price:** 5 AED\\n   - **Website:** [cafficana.com](https://cafficana.com/)\\n   - **Image:** ![Cafficana New](https://alacater-dev.s3.me-central-1.amazonaws.com/Cafe%20italo%20banner.webp)\\n   - **Banner Image:** ![Cafficana Banner](https://alacater-dev.s3.me-central-1.amazonaws.com/cafficana.webp)\\n\\n4. **Chalet Grill**\\n   - **Location:** Al Barsha First\\n   - **Address:** Al Barsha First, UAE\\n   - **Description:** Welcome to Chalet Grill, where a culinary journey awaits in the heart of Dubai. Specializing in exquisite grilled delicacies prepared with the finest ingredients, our warm ambiance promises a memorable time.\\n   - **Minimum Price:** 3 AED\\n   - **Website:** [chaletgrill.com](https://www.chaletgrill.com)\\n   - **Image:** ![Chalet Grill](https://alacater-dev.s3.me-central-1.amazonaws.com/32321800_169583490399344_966400158797398016_n.webp)\\n   - **Banner Image:** ![Chalet Banner](https://alacater-dev.s3.me-central-1.amazonaws.com/sha1.webp)\\n\\n5. **Pizza King**\\n   - **Location:** Al Barsha First\\n   - **Address:** Al Barsha First\\n   - **Description:** Authentic Pizza\\n   - **Minimum Price:** 100 AED\\n   - **Website:** [pizzakingtest.com](http://www.pizzakingtest.com)\\n   - **Image:** ![Pizza King](https://alacater-dev.s3.me-central-1.amazonaws.com/pizza_image.webp)\\n   - **Banner Image:** ![Pizza King Banner](https://alacater-dev.s3.me-central-1.amazonaws.com/pizza_image.webp)\\n\\nThese restaurants offer a variety of cuisines and dining experiences in Al Barsha.', pydantic=None, json_dict=None, agent='Experienced Restaurant Finder', output_format=<OutputFormat.RAW: 'raw'>)], token_usage=UsageMetrics(total_tokens=4520, prompt_tokens=3506, cached_prompt_tokens=0, completion_tokens=1014, successful_requests=4))"
      ]
     },
     "execution_count": 130,
     "metadata": {},
     "output_type": "execute_result"
    }
   ],
   "source": [
    "alacater_crew.kickoff(inputs={\"location\": \"Al Barsha\",\n",
    "                              \"customer\": \"John Doe\"})"
   ]
  },
  {
   "cell_type": "code",
   "execution_count": null,
   "metadata": {},
   "outputs": [],
   "source": []
  }
 ],
 "metadata": {
  "kernelspec": {
   "display_name": "testenv",
   "language": "python",
   "name": "python3"
  },
  "language_info": {
   "codemirror_mode": {
    "name": "ipython",
    "version": 3
   },
   "file_extension": ".py",
   "mimetype": "text/x-python",
   "name": "python",
   "nbconvert_exporter": "python",
   "pygments_lexer": "ipython3",
   "version": "3.11.5"
  },
  "orig_nbformat": 4
 },
 "nbformat": 4,
 "nbformat_minor": 2
}
