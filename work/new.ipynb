{
 "cells": [
  {
   "cell_type": "code",
   "execution_count": 47,
   "metadata": {},
   "outputs": [],
   "source": [
    "from crewai import Agent, Task, Crew\n",
    "from crewai_tools import WebsiteSearchTool, VisionTool\n",
    "\n",
    "\n",
    "\n",
    "menu_price_tool = WebsiteSearchTool(\"https://www.chaletgrill.com/menu-2\")\n",
    "vision_tool = VisionTool()\n",
    "\n",
    "images_path = \"https://chaletgrill.com/wp-content/uploads/2020/02/Page-XIa-687x1024.jpg\"\n",
    "\n",
    "# Create a new agent\n",
    "custom_agent = Agent(role=\"You are Senior Customer Support Executive in a resturant named Chalet Grill\", name=\"Harrison Wells\",\n",
    "                     goal=\"To provide customer support to the customers of Chalet Grill based on {topic} and use the menu too.\",\n",
    "                     backstory=\"You where a chef in Chalet Grill and now you are promoted to Senior Customer Support Executive. You have a good knowledge of the food items in the menu and you can help the customers to choose the best food items from the menu.\",\n",
    "                     verbose=True)\n"
   ]
  },
  {
   "cell_type": "code",
   "execution_count": 48,
   "metadata": {},
   "outputs": [],
   "source": [
    "customer_task = Task(description=\"help the customer based on {topic} \",\n",
    "                    expected_output=\"The agent should help you to choose the best food items from the menu., just say no, if you dont know. The image url is :  https://chaletgrill.com/wp-content/uploads/2020/02/Page-XIa-687x1024.jpg\",\n",
    "                    agent=custom_agent,\n",
    "                    verbose=True,\n",
    "                    tools=[vision_tool])"
   ]
  },
  {
   "cell_type": "code",
   "execution_count": 49,
   "metadata": {},
   "outputs": [
    {
     "name": "stderr",
     "output_type": "stream",
     "text": [
      "2025-01-18 12:13:43,071 - 8102892288 - __init__.py-__init__:538 - WARNING: Overriding of current TracerProvider is not allowed\n"
     ]
    },
    {
     "name": "stdout",
     "output_type": "stream",
     "text": [
      "\u001b[1m\u001b[95m# Agent:\u001b[00m \u001b[1m\u001b[92mYou are Senior Customer Support Executive in a resturant named Chalet Grill\u001b[00m\n",
      "\u001b[95m## Task:\u001b[00m \u001b[92mhelp the customer based on Give me price lemon fresh juice? \u001b[00m\n",
      "\n",
      "\n",
      "\u001b[1m\u001b[95m# Agent:\u001b[00m \u001b[1m\u001b[92mYou are Senior Customer Support Executive in a resturant named Chalet Grill\u001b[00m\n",
      "\u001b[95m## Thought:\u001b[00m \u001b[92mI need to gather information about the menu to find the price of lemon fresh juice.\u001b[00m\n",
      "\u001b[95m## Using tool:\u001b[00m \u001b[92mVision Tool\u001b[00m\n",
      "\u001b[95m## Tool Input:\u001b[00m \u001b[92m\n",
      "\"{\\\"image_path_url\\\": \\\"https://chaletgrill.com/wp-content/uploads/2020/02/Page-XIa-687x1024.jpg\\\"}\"\u001b[00m\n",
      "\u001b[95m## Tool Output:\u001b[00m \u001b[92m\n",
      "The image features a menu with various categories of beverages and desserts. Here’s a breakdown:\n",
      "\n",
      "### Fresh Juice\n",
      "- Lemon: 10\n",
      "- Orange: 13\n",
      "- Water Melon: 13\n",
      "- Pineapple: 16\n",
      "- Sweet Melon: 16\n",
      "- Lime & Mint Cooler: 16\n",
      "- Kiwi: 17\n",
      "- Pomegranate: 21\n",
      "- Carrot: 17\n",
      "- Lassi: 10\n",
      "- Mango Lassi: 17\n",
      "\n",
      "### Mojito\n",
      "- Strawberry Mojito: 16\n",
      "- Passion Fruit Mojito: 17\n",
      "- Kiwi Mojito: 17\n",
      "\n",
      "### Café\n",
      "- Karak Tea: 3\n",
      "- Sulaimani: 2\n",
      "- Lime Tea: 7\n",
      "- Coffee: 4\n",
      "- Ice Tea: 7\n",
      "\n",
      "### Shakes\n",
      "- Banana: 13\n",
      "- Avocado: 19\n",
      "- Mango: 19\n",
      "- Strawberry: 19\n",
      "- Strawberry Banana Smoothie: 19\n",
      "- Chocolate: 17\n",
      "- Cold Coffee: 17\n",
      "- Chalet Special: 21\n",
      "\n",
      "### Soft Drinks\n",
      "- Coca Cola: 5\n",
      "- Sprite: 5\n",
      "- Fanta: 5\n",
      "- Coke Zero: 5\n",
      "- Sprite Zero: 5\n",
      "- Still Water Small/Large: 2/4\n",
      "- Sparkling Water Small/Large: 10/15\n",
      "\n",
      "### Cocktail\n",
      "- Regular: 17\n",
      "-\u001b[00m\n",
      "\n",
      "\n",
      "\u001b[1m\u001b[95m# Agent:\u001b[00m \u001b[1m\u001b[92mYou are Senior Customer Support Executive in a resturant named Chalet Grill\u001b[00m\n",
      "\u001b[95m## Final Answer:\u001b[00m \u001b[92m\n",
      "The price for Lemon Fresh Juice at Chalet Grill is **10**. If you have any other questions or need assistance with choosing other food items, feel free to ask!\u001b[00m\n",
      "\n",
      "\n"
     ]
    },
    {
     "data": {
      "text/plain": [
       "CrewOutput(raw='The price for Lemon Fresh Juice at Chalet Grill is **10**. If you have any other questions or need assistance with choosing other food items, feel free to ask!', pydantic=None, json_dict=None, tasks_output=[TaskOutput(description='help the customer based on Give me price lemon fresh juice? ', name=None, expected_output='The agent should help you to choose the best food items from the menu., just say no, if you dont know. The image url is :  https://chaletgrill.com/wp-content/uploads/2020/02/Page-XIa-687x1024.jpg', summary='help the customer based on Give me price lemon fresh...', raw='The price for Lemon Fresh Juice at Chalet Grill is **10**. If you have any other questions or need assistance with choosing other food items, feel free to ask!', pydantic=None, json_dict=None, agent='You are Senior Customer Support Executive in a resturant named Chalet Grill', output_format=<OutputFormat.RAW: 'raw'>)], token_usage=UsageMetrics(total_tokens=1292, prompt_tokens=1158, cached_prompt_tokens=0, completion_tokens=134, successful_requests=2))"
      ]
     },
     "execution_count": 49,
     "metadata": {},
     "output_type": "execute_result"
    }
   ],
   "source": [
    "crew = Crew(agents=[custom_agent], tasks=[customer_task], verbose=True)\n",
    "\n",
    "crew.kickoff(inputs =  {\"topic\" : \"Give me price lemon fresh juice?\"})"
   ]
  },
  {
   "cell_type": "code",
   "execution_count": null,
   "metadata": {},
   "outputs": [],
   "source": [
    "# Customer ----> `Give me price lemon fresh juice?`\n",
    "# Agent ----> `The agent should help you to choose appropriate menu based on query, just say no, if you dont know.\n",
    "# Tool ----> `The image url is :  https://chaletgrill.com/wp-content/uploads/2020/02/Page-XIa-687x1024.jpg`"
   ]
  }
 ],
 "metadata": {
  "kernelspec": {
   "display_name": "testenv",
   "language": "python",
   "name": "python3"
  },
  "language_info": {
   "codemirror_mode": {
    "name": "ipython",
    "version": 3
   },
   "file_extension": ".py",
   "mimetype": "text/x-python",
   "name": "python",
   "nbconvert_exporter": "python",
   "pygments_lexer": "ipython3",
   "version": "3.11.5"
  },
  "orig_nbformat": 4
 },
 "nbformat": 4,
 "nbformat_minor": 2
}
